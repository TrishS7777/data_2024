{
 "cells": [
  {
   "cell_type": "markdown",
   "metadata": {},
   "source": [
    "# Markdown in Jupyter Notebooks\n",
    "\n",
    "**Objective:** By the end of this exercise, you should be able to use Markdown to create organized, styled content in Jupyter Notebooks.\n",
    "\n",
    "[documentation](https://www.markdownguide.org/cheat-sheet/)\n",
    "\n",
    "[more documentation](https://www.markdownguide.org/extended-syntax/)"
   ]
  },
  {
   "cell_type": "markdown",
   "metadata": {},
   "source": [
    "**Instructions**\n",
    "\n",
    "1. Use Markdown headings to structure content.\n",
    "Create cells with the following:\n",
    "  - A title using **Heading 1**\n",
    "  - A section heading with **Heading 2**\n",
    "  - A subsection with **Heading 3**\n",
    "  - A subsection with **Heading 4**\n",
    "  - A subsection with **Heading 5**\n",
    "  - A subsection with **Heading 6**"
   ]
  },
  {
   "cell_type": "markdown",
   "metadata": {
    "id": "6SPk_f2fHR14"
   },
   "source": [
    "# Heading1\n",
    "## Heading2\n",
    "### Heading3\n",
    "#### Heading4\n",
    "##### Heading5\n",
    "###### Heading6"
   ]
  },
  {
   "cell_type": "markdown",
   "metadata": {
    "id": "t_HeS5bpB8u7"
   },
   "source": [
    "2. Practice bold and italic text:\n",
    "  - Add a cell with the following text: “This is bold text, and this is italic text.”\n",
    "  - Create a blockquote with the text: “This is a blockquote example.”"
   ]
  },
  {
   "cell_type": "markdown",
   "metadata": {
    "id": "jy1cptsFHSuX"
   },
   "source": [
    "\"**This is bold text**, and this is *italic* text.\"\n"
   ]
  },
  {
   "cell_type": "markdown",
   "metadata": {},
   "source": [
    "~~~ \n",
    "{\n",
    "  \"This is a blockquote example.\"\n",
    "} \n",
    "~~~"
   ]
  },
  {
   "cell_type": "markdown",
   "metadata": {
    "id": "6AB2ox0gHF34"
   },
   "source": [
    "3. Create an ordered list (numbers) and an unordered list (bullets):\n",
    "\n",
    "- **Ordered List:**\n",
    "  1. First item\n",
    "  2. Second item\n",
    "  3. Third item\n",
    "\n",
    "- **Unordered List:**\n",
    "  - First item\n",
    "  - Second item\n",
    "  - Third item"
   ]
  },
  {
   "cell_type": "markdown",
   "metadata": {
    "id": "JyYvQ5lSHTmX"
   },
   "source": [
    "\n",
    "1. Study\n",
    "2. Code\n",
    "3. Test\n",
    "4. Get a job\n"
   ]
  },
  {
   "cell_type": "markdown",
   "metadata": {},
   "source": [
    "Study\n",
    "Code\n",
    "Test\n",
    "Get a job"
   ]
  },
  {
   "cell_type": "markdown",
   "metadata": {
    "id": "dNllU7rkHF70"
   },
   "source": [
    "4. Create an inline code example with backticks, like this:\n",
    "\n",
    "`print(\"Hello, world!\")`\n",
    "\n",
    "Then, create a multi-line code block:\n",
    "\n",
    "```python\n",
    "def greet(name):\n",
    "    return f\"Hello, {name}!\"\n",
    "greet(\"World\")\n",
    "```"
   ]
  },
  {
   "cell_type": "markdown",
   "metadata": {
    "id": "Q7OiCgERHF_c"
   },
   "source": [
    "print(\"Welcome, player!\")\n",
    "def greet(player)\n",
    "   return f\"Welcome, {player}!\"\n",
    "greet(\"Player\")"
   ]
  },
  {
   "cell_type": "code",
   "execution_count": null,
   "metadata": {},
   "outputs": [
    {
     "name": "stdout",
     "output_type": "stream",
     "text": [
      "Welcome, player!\n"
     ]
    },
    {
     "data": {
      "text/plain": [
       "'Welcome, player!'"
      ]
     },
     "execution_count": 2,
     "metadata": {},
     "output_type": "execute_result"
    }
   ],
   "source": [
    "print(\"Welcome, player!\")\n",
    "def greet(player):\n",
    "    return f\"Welcome, {player}!\"\n",
    "greet(\"Player\")"
   ]
  },
  {
   "cell_type": "markdown",
   "metadata": {
    "id": "cXKz2W9YHGCn"
   },
   "source": [
    "5. Hyperlinks\n",
    "\n",
    "  Add a link to a website:\n",
    "  [Google](https://www.google.com)\n",
    "\n",
    "  Images\n",
    "\n",
    "  Upload an image (or use an online URL) and add it to the notebook:\n",
    "\n",
    "  <h3>Python Logo</h3>\n",
    "  <img src=\"https://cdn.iconscout.com/icon/free/png-512/free-python-logo-icon-download-in-svg-png-gif-file-formats--programming-language-logos-icons-1720083.png?f=webp&w=256\" alt=\"python logo\" width=\"80\"/>"
   ]
  },
  {
   "cell_type": "markdown",
   "metadata": {
    "id": "P6uGmYtIHGFw"
   },
   "source": [
    "\n",
    "\n",
    "[GOOGLE](http://www.google.com)\n",
    "![alt text](HALLOWEENPICTURE.jfif)"
   ]
  },
  {
   "cell_type": "markdown",
   "metadata": {
    "id": "HITMIz3cHGJE"
   },
   "source": [
    "6. Mathematics with LaTeX\n",
    "\n",
    "  ### Mathematics with LaTeX\n",
    "\n",
    "  Write a mathematical equation in LaTeX, such as the quadratic formula:\n",
    "\n",
    "  $$\n",
    "  x = \\frac{-b \\pm \\sqrt{b^2 - 4ac}}{2a}\n",
    "  $$"
   ]
  },
  {
   "cell_type": "markdown",
   "metadata": {
    "id": "f4az5szGHGME"
   },
   "source": [
    "  $$\n",
    "  x = \\frac{-b \\pm \\sqrt{b^2 - 4ac}}{2a}\n",
    "  $$"
   ]
  },
  {
   "cell_type": "markdown",
   "metadata": {},
   "source": [
    "7. Markdown table \n",
    "\n",
    "- Make a mark down table that is 5 columns and 3 rows. \n",
    "- Make the first column centered\n",
    "- The next 3 should be centered \n",
    "- The final align to the right "
   ]
  },
  {
   "cell_type": "markdown",
   "metadata": {},
   "source": [
    "|   Column 1   |   Column 2   |   Column 3   |   Column 4   |      Column 5|\n",
    "| :-------:    | :-------:    | :-------:    | :-------:    |  -----:      |\n",
    "|   Header     |   Word       |  Word        |  Word        |  Word        |\n",
    "|   Paragraph  |              |              |              |              |\n",
    "\n"
   ]
  },
  {
   "cell_type": "markdown",
   "metadata": {},
   "source": [
    "8. Other things \n",
    "\n",
    "Write a block of text and use the following:\n",
    "- Make a word Bold \n",
    "- Make a different work Italic \n",
    "- Make a different work Bold and Italic\n",
    "- Strikethrough a word \n",
    "- Make a table with bold column names "
   ]
  },
  {
   "cell_type": "markdown",
   "metadata": {},
   "source": [
    "~~~markdown\n",
    "{\n",
    "    **Student**\n",
    "    \"firstName\": \"Trish\",\n",
    "\"lastName\": \"~~Sullivan~~\",\n",
    "    \"*age*\": 51\n",
    "    \"__*email*__\": \"trishs7777@gmail.com\"\n",
    "}\n",
    "~~~\n",
    "| **Column 1** | **Column 2** | **Column 3** | **Column 4** |  **Column 5**|\n",
    "| :-------:    | :-------:    | :-------:    | :-------:    |  -----:      |\n",
    "|   Header     |   Word       |  Word        |  Word        |  Word        |\n",
    "|   Paragraph  |              |              |              |              |"
   ]
  },
  {
   "cell_type": "markdown",
   "metadata": {
    "id": "ZjQYyEavLEkm"
   },
   "source": [
    "# Code Challange!\n",
    "\n",
    "Here's a simple Python script that creates and saves a file called sample.txt with some example text."
   ]
  },
  {
   "cell_type": "code",
   "execution_count": 1,
   "metadata": {
    "colab": {
     "base_uri": "https://localhost:8080/"
    },
    "id": "Tf3nwqA-JsZw",
    "outputId": "732b76dc-eab3-4185-ebf3-7366bc025903"
   },
   "outputs": [
    {
     "name": "stdout",
     "output_type": "stream",
     "text": [
      "sample.txt has been created and saved.\n"
     ]
    }
   ],
   "source": [
    "with open(\"sample.txt\", \"w\") as file:\n",
    "    file.write(\"This is a sample text file.\\n\")\n",
    "    file.write(\"It contains multiple lines of text.\\n\")\n",
    "    file.write(\"Python makes file handling easy!\")\n",
    "\n",
    "print(\"sample.txt has been created and saved.\")"
   ]
  },
  {
   "cell_type": "code",
   "execution_count": 2,
   "metadata": {
    "colab": {
     "base_uri": "https://localhost:8080/"
    },
    "id": "UEi6YgWgMb5A",
    "outputId": "30e99a91-40b6-4a5f-8e96-2756632e72ee"
   },
   "outputs": [
    {
     "name": "stdout",
     "output_type": "stream",
     "text": [
      "This is a sample text file.\n",
      "It contains multiple lines of text.\n",
      "Python makes file handling easy!\n"
     ]
    }
   ],
   "source": [
    "with open(\"sample.txt\", \"r\") as file:\n",
    "    contents = file.read()\n",
    "\n",
    "print(contents)"
   ]
  },
  {
   "cell_type": "markdown",
   "metadata": {
    "id": "LTbhz8ndLT8Y"
   },
   "source": [
    "Using the above as an example write a program that creates a little bio about yourself.\n",
    "\n",
    "- Use f strings to use your variables\n",
    "- Make the file save as what you entered in the name field\n",
    "- Read the file in python after you write it"
   ]
  },
  {
   "cell_type": "code",
   "execution_count": 10,
   "metadata": {
    "colab": {
     "base_uri": "https://localhost:8080/"
    },
    "id": "bbzPphDoKgqE",
    "outputId": "a87a332e-150d-4a8f-e6aa-c673addcbc91"
   },
   "outputs": [
    {
     "name": "stdout",
     "output_type": "stream",
     "text": [
      "Hello, Trish! Your favorite hobby is games, your favorite animal is a cat, and your favorite color is green.\n",
      "Trish.txt has been created and saved.\n",
      "My name is: Trish\n",
      "My hobby is: games\n",
      "My favorite animal is a: cat\n",
      "My favorite color is: green\n"
     ]
    }
   ],
   "source": [
    "\n",
    "name = input(\"Enter your name: \\n\")\n",
    "hobby = input(\"Enter your favorite hobby: \\n\")\n",
    "animal = input(\"Enter your favorite animal: \\n\")\n",
    "color = input(\"Enter your favorite color: \")\n",
    "\n",
    "print(f\"Hello, {name}! Your favorite hobby is {hobby}, your favorite animal is a {animal}, and your favorite color is {color}.\")\n",
    "\n",
    "bio_content = f\"\"\"My name is: {name}\n",
    "My hobby is: {hobby}\n",
    "My favorite animal is a: {animal}\n",
    "My favorite color is: {color}\"\"\"\n",
    "\n",
    "with open(f\"{name}.txt\", \"w\") as file:\n",
    "    file.write(bio_content) \n",
    "\n",
    "print(f\"{name}.txt has been created and saved.\")\n",
    "\n",
    "with open(f\"{name}.txt\", \"r\") as file:\n",
    "    contents = file.read()\n",
    "print(contents)\n"
   ]
  }
 ],
 "metadata": {
  "colab": {
   "provenance": []
  },
  "kernelspec": {
   "display_name": "Python 3",
   "name": "python3"
  },
  "language_info": {
   "codemirror_mode": {
    "name": "ipython",
    "version": 3
   },
   "file_extension": ".py",
   "mimetype": "text/x-python",
   "name": "python",
   "nbconvert_exporter": "python",
   "pygments_lexer": "ipython3",
   "version": "3.13.0"
  }
 },
 "nbformat": 4,
 "nbformat_minor": 0
}
